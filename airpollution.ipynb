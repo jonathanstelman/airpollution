{
 "cells": [
  {
   "cell_type": "markdown",
   "metadata": {},
   "source": [
    "# Air Pollution Comparison"
   ]
  },
  {
   "cell_type": "code",
   "execution_count": 1,
   "metadata": {},
   "outputs": [],
   "source": [
    "import pandas as pd"
   ]
  },
  {
   "cell_type": "code",
   "execution_count": 2,
   "metadata": {},
   "outputs": [],
   "source": [
    "import numpy as np"
   ]
  },
  {
   "cell_type": "code",
   "execution_count": 3,
   "metadata": {},
   "outputs": [],
   "source": [
    "from matplotlib import pyplot as plt"
   ]
  },
  {
   "cell_type": "markdown",
   "metadata": {},
   "source": [
    "# Geographic Area Lists of Data"
   ]
  },
  {
   "cell_type": "code",
   "execution_count": 4,
   "metadata": {},
   "outputs": [],
   "source": [
    "newyork_newark_jerseycity = [pd.read_csv('/Users/smaslam/Desktop/airpollution/NewYork-Newark-JerseyCity/1985-NY-NJ-PA.csv'), \n",
    "                             pd.read_csv('/Users/smaslam/Desktop/airpollution/NewYork-Newark-JerseyCity/1986-NY-NJ-PA.csv'),\n",
    "                             pd.read_csv('/Users/smaslam/Desktop/airpollution/NewYork-Newark-JerseyCity/1987-NY-NJ-PA.csv'),\n",
    "                             pd.read_csv('/Users/smaslam/Desktop/airpollution/NewYork-Newark-JerseyCity/1988-NY-NJ-PA.csv'),\n",
    "                             pd.read_csv('/Users/smaslam/Desktop/airpollution/NewYork-Newark-JerseyCity/1989-NY-NJ-PA.csv'),\n",
    "                             pd.read_csv('/Users/smaslam/Desktop/airpollution/NewYork-Newark-JerseyCity/1990-NY-NJ-PA.csv'),\n",
    "                             pd.read_csv('/Users/smaslam/Desktop/airpollution/NewYork-Newark-JerseyCity/1991-NY-NJ-PA.csv'),\n",
    "                             pd.read_csv('/Users/smaslam/Desktop/airpollution/NewYork-Newark-JerseyCity/1992-NY-NJ-PA.csv'),\n",
    "                             pd.read_csv('/Users/smaslam/Desktop/airpollution/NewYork-Newark-JerseyCity/1993-NY-NJ-PA.csv'),\n",
    "                             pd.read_csv('/Users/smaslam/Desktop/airpollution/NewYork-Newark-JerseyCity/1994-NY-NJ-PA.csv'),\n",
    "                             pd.read_csv('/Users/smaslam/Desktop/airpollution/NewYork-Newark-JerseyCity/1995-NY-NJ-PA.csv'),\n",
    "                             pd.read_csv('/Users/smaslam/Desktop/airpollution/NewYork-Newark-JerseyCity/1996-NY-NJ-PA.csv'),\n",
    "                             pd.read_csv('/Users/smaslam/Desktop/airpollution/NewYork-Newark-JerseyCity/1997-NY-NJ-PA.csv'),\n",
    "                             pd.read_csv('/Users/smaslam/Desktop/airpollution/NewYork-Newark-JerseyCity/1998-NY-NJ-PA.csv'),\n",
    "                             pd.read_csv('/Users/smaslam/Desktop/airpollution/NewYork-Newark-JerseyCity/1999-NY-NJ-PA.csv'),\n",
    "                             pd.read_csv('/Users/smaslam/Desktop/airpollution/NewYork-Newark-JerseyCity/2000-NY-NJ-PA.csv'),\n",
    "                             pd.read_csv('/Users/smaslam/Desktop/airpollution/NewYork-Newark-JerseyCity/2001-NY-NJ-PA.csv'),\n",
    "                             pd.read_csv('/Users/smaslam/Desktop/airpollution/NewYork-Newark-JerseyCity/2002-NY-NJ-PA.csv'),\n",
    "                             pd.read_csv('/Users/smaslam/Desktop/airpollution/NewYork-Newark-JerseyCity/2003-NY-NJ-PA.csv'),\n",
    "                             pd.read_csv('/Users/smaslam/Desktop/airpollution/NewYork-Newark-JerseyCity/2004-NY-NJ-PA.csv'),\n",
    "                             pd.read_csv('/Users/smaslam/Desktop/airpollution/NewYork-Newark-JerseyCity/2005-NY-NJ-PA.csv'),\n",
    "                             pd.read_csv('/Users/smaslam/Desktop/airpollution/NewYork-Newark-JerseyCity/2006-NY-NJ-PA.csv'),\n",
    "                             pd.read_csv('/Users/smaslam/Desktop/airpollution/NewYork-Newark-JerseyCity/2007-NY-NJ-PA.csv'),\n",
    "                             pd.read_csv('/Users/smaslam/Desktop/airpollution/NewYork-Newark-JerseyCity/2008-NY-NJ-PA.csv'),\n",
    "                             pd.read_csv('/Users/smaslam/Desktop/airpollution/NewYork-Newark-JerseyCity/2009-NY-NJ-PA.csv'),\n",
    "                             pd.read_csv('/Users/smaslam/Desktop/airpollution/NewYork-Newark-JerseyCity/2010-NY-NJ-PA.csv'),\n",
    "                             pd.read_csv('/Users/smaslam/Desktop/airpollution/NewYork-Newark-JerseyCity/2011-NY-NJ-PA.csv'),\n",
    "                             pd.read_csv('/Users/smaslam/Desktop/airpollution/NewYork-Newark-JerseyCity/2012-NY-NJ-PA.csv'),\n",
    "                             pd.read_csv('/Users/smaslam/Desktop/airpollution/NewYork-Newark-JerseyCity/2013-NY-NJ-PA.csv'),\n",
    "                             pd.read_csv('/Users/smaslam/Desktop/airpollution/NewYork-Newark-JerseyCity/2014-NY-NJ-PA.csv'),\n",
    "                             pd.read_csv('/Users/smaslam/Desktop/airpollution/NewYork-Newark-JerseyCity/2015-NY-NJ-PA.csv'),\n",
    "                             pd.read_csv('/Users/smaslam/Desktop/airpollution/NewYork-Newark-JerseyCity/2016-NY-NJ-PA.csv'),\n",
    "                             pd.read_csv('/Users/smaslam/Desktop/airpollution/NewYork-Newark-JerseyCity/2017-NY-NJ-PA.csv'),\n",
    "                             pd.read_csv('/Users/smaslam/Desktop/airpollution/NewYork-Newark-JerseyCity/2018-NY-NJ-PA.csv'),\n",
    "                             pd.read_csv('/Users/smaslam/Desktop/airpollution/NewYork-Newark-JerseyCity/2019-NY-NJ-PA.csv'),\n",
    "                             pd.read_csv('/Users/smaslam/Desktop/airpollution/NewYork-Newark-JerseyCity/2020-NY-NJ-PA.csv')]\n",
    "\n",
    "time = [1985, 1986, 1987, 1988, 1989, 1990, 1991, 1992, 1993, 1994, 1995, 1996, 1997, 1998, 1999, 2000,\n",
    "        2001, 2002, 2003, 2004, 2005, 2006, 2007, 2008, 2009, 2010, 2011, 2012, 2013, 2014, 2015, 2016,\n",
    "        2017, 2018, 2019, 2020]\n"
   ]
  },
  {
   "cell_type": "markdown",
   "metadata": {},
   "source": [
    "# Ozone Average Method (1985-2020)"
   ]
  },
  {
   "cell_type": "code",
   "execution_count": 5,
   "metadata": {},
   "outputs": [],
   "source": [
    "def ozone_average(y):\n",
    "    rolled_average = []\n",
    "    for x in y:\n",
    "        year_avg = 0\n",
    "        count = 0\n",
    "        month_avg = 0.0\n",
    "        row = 0\n",
    "        column = 0\n",
    "        i = 1\n",
    "        while (i < 13):\n",
    "            if(row < len(x)):\n",
    "                index = x.iloc[row, column]\n",
    "                if(i > 9):\n",
    "                    if index[0:2] == str(i):\n",
    "                        month_avg += x.iloc[row, column + 2]\n",
    "                        count += 1\n",
    "                        row += 1\n",
    "                    else:\n",
    "                        month_avg /= count\n",
    "                        year_avg += month_avg\n",
    "                        month_avg = 0\n",
    "                        i += 1\n",
    "                        count = 0\n",
    "                else:\n",
    "                    if index[0] == str(i):\n",
    "                        month_avg += x.iloc[row, column + 2]\n",
    "                        count += 1\n",
    "                        row += 1\n",
    "                    else:\n",
    "                        month_avg /= count\n",
    "                        year_avg += month_avg\n",
    "                        month_avg = 0\n",
    "                        i += 1\n",
    "                        count = 0\n",
    "            else:\n",
    "                i = 13\n",
    "        year_avg /= 12\n",
    "        rolled_average.append(year_avg)\n",
    "    return rolled_average"
   ]
  },
  {
   "cell_type": "markdown",
   "metadata": {},
   "source": [
    "# Particle Average Method (2000-2020)"
   ]
  },
  {
   "cell_type": "code",
   "execution_count": 6,
   "metadata": {},
   "outputs": [],
   "source": [
    "def particle_average(y):\n",
    "    rolled_average = []\n",
    "    y = y[15:35]\n",
    "    for x in y:\n",
    "        year_avg = 0\n",
    "        count = 0\n",
    "        month_avg = 0.0\n",
    "        row = 0\n",
    "        column = 0\n",
    "        i = 1\n",
    "        while (i < 13):\n",
    "            if(row < len(x)):\n",
    "                index = x.iloc[row, column]\n",
    "                if(i > 9):\n",
    "                    if index[0:2] == str(i):\n",
    "                        month_avg += x.iloc[row, column + 4]\n",
    "                        count += 1\n",
    "                        row += 1\n",
    "                    else:\n",
    "                        month_avg /= count\n",
    "                        year_avg += month_avg\n",
    "                        month_avg = 0\n",
    "                        i += 1\n",
    "                        count = 0\n",
    "                else:\n",
    "                    if index[0] == str(i):\n",
    "                        month_avg += x.iloc[row, column + 4]\n",
    "                        count += 1\n",
    "                        row += 1\n",
    "                    else:\n",
    "                        month_avg /= count\n",
    "                        year_avg += month_avg\n",
    "                        month_avg = 0\n",
    "                        i += 1\n",
    "                        count = 0\n",
    "            else:\n",
    "                i = 13\n",
    "        year_avg /= 12\n",
    "        rolled_average.append(year_avg)\n",
    "    return rolled_average"
   ]
  },
  {
   "cell_type": "markdown",
   "metadata": {},
   "source": [
    "# Ozone (O3) Trend"
   ]
  },
  {
   "cell_type": "code",
   "execution_count": 7,
   "metadata": {},
   "outputs": [
    {
     "data": {
      "text/plain": [
       "Text(0.5, 1.0, 'Ozone (O3) Trend')"
      ]
     },
     "execution_count": 7,
     "metadata": {},
     "output_type": "execute_result"
    },
    {
     "data": {
      "image/png": "[encoded data removed]",
      "text/plain": [
       "<Figure size 432x288 with 1 Axes>"
      ]
     },
     "metadata": {
      "needs_background": "light"
     },
     "output_type": "display_data"
    }
   ],
   "source": [
    "plt.plot(time, ozone_average(newyork_newark_jerseycity))\n",
    "plt.xlabel('Time')\n",
    "plt.ylabel('Average AQI')\n",
    "plt.title('Ozone (O3) Trend')"
   ]
  },
  {
   "cell_type": "markdown",
   "metadata": {},
   "source": [
    "# Particulate Matter (PM 2.5) Trend"
   ]
  },
  {
   "cell_type": "code",
   "execution_count": 8,
   "metadata": {},
   "outputs": [
    {
     "data": {
      "text/plain": [
       "Text(0.5, 1.0, 'Particulate Matter (PM 2.5) Trend')"
      ]
     },
     "execution_count": 8,
     "metadata": {},
     "output_type": "execute_result"
    },
    {
     "data": {
      "image/png": "[encoded data removed]",
      "text/plain": [
       "<Figure size 432x288 with 1 Axes>"
      ]
     },
     "metadata": {
      "needs_background": "light"
     },
     "output_type": "display_data"
    }
   ],
   "source": [
    "plt.plot(time[15:35], particle_average(newyork_newark_jerseycity))\n",
    "plt.xlabel('Time')\n",
    "plt.ylabel('Average AQI')\n",
    "plt.title('Particulate Matter (PM 2.5) Trend')"
   ]
  }
 ],
 "metadata": {
  "kernelspec": {
   "display_name": "Python 3",
   "language": "python",
   "name": "python3"
  },
  "language_info": {
   "codemirror_mode": {
    "name": "ipython",
    "version": 3
   },
   "file_extension": ".py",
   "mimetype": "text/x-python",
   "name": "python",
   "nbconvert_exporter": "python",
   "pygments_lexer": "ipython3",
   "version": "3.7.7"
  }
 },
 "nbformat": 4,
 "nbformat_minor": 4
}
